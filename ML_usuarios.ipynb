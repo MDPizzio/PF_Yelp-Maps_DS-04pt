{
 "cells": [
  {
   "cell_type": "code",
   "execution_count": 1,
   "metadata": {},
   "outputs": [],
   "source": [
    "from google.cloud import bigquery\n",
    "import pandas as pd\n",
    "import os"
   ]
  },
  {
   "cell_type": "code",
   "execution_count": 2,
   "metadata": {},
   "outputs": [],
   "source": [
    "#Configura variable de entorno\n",
    "os.environ[\"GOOGLE_APPLICATION_CREDENTIALS\"] = \"prctica-etl-2af93f84aca1.json\""
   ]
  },
  {
   "cell_type": "code",
   "execution_count": 3,
   "metadata": {},
   "outputs": [],
   "source": [
    "client = bigquery.Client(location=\"southamerica-west1\", project=\"prctica-etl\")"
   ]
  },
  {
   "cell_type": "code",
   "execution_count": 10,
   "metadata": {},
   "outputs": [],
   "source": [
    "query = \"SELECT * FROM `prctica-etl.Yelp.business`\"\n",
    "df1 = client.query(query).to_dataframe()\n",
    "query = \"SELECT * FROM `prctica-etl.Yelp.Reviews`\"\n",
    "df2 = client.query(query).to_dataframe()"
   ]
  },
  {
   "cell_type": "code",
   "execution_count": 11,
   "metadata": {},
   "outputs": [],
   "source": [
    "df_business = df1.copy()\n",
    "df_reviews = df2.copy()"
   ]
  },
  {
   "cell_type": "code",
   "execution_count": 6,
   "metadata": {},
   "outputs": [
    {
     "name": "stdout",
     "output_type": "stream",
     "text": [
      "<class 'pandas.core.frame.DataFrame'>\n",
      "RangeIndex: 8761 entries, 0 to 8760\n",
      "Data columns (total 12 columns):\n",
      " #   Column        Non-Null Count  Dtype \n",
      "---  ------        --------------  ----- \n",
      " 0   business_id   8761 non-null   object\n",
      " 1   name          8761 non-null   object\n",
      " 2   address       8761 non-null   object\n",
      " 3   city          8761 non-null   object\n",
      " 4   state         8761 non-null   object\n",
      " 5   postal_code   8761 non-null   object\n",
      " 6   latitude      8761 non-null   object\n",
      " 7   longitude     8761 non-null   object\n",
      " 8   stars         8761 non-null   object\n",
      " 9   review_count  8761 non-null   object\n",
      " 10  categories    8761 non-null   object\n",
      " 11  platform      8761 non-null   object\n",
      "dtypes: object(12)\n",
      "memory usage: 821.5+ KB\n"
     ]
    }
   ],
   "source": [
    "df_business.info()"
   ]
  },
  {
   "cell_type": "code",
   "execution_count": 12,
   "metadata": {},
   "outputs": [
    {
     "name": "stdout",
     "output_type": "stream",
     "text": [
      "<class 'pandas.core.frame.DataFrame'>\n",
      "RangeIndex: 640461 entries, 0 to 640460\n",
      "Data columns (total 10 columns):\n",
      " #   Column       Non-Null Count   Dtype \n",
      "---  ------       --------------   ----- \n",
      " 0   review_id    640461 non-null  object\n",
      " 1   user_id      640461 non-null  object\n",
      " 2   business_id  640461 non-null  object\n",
      " 3   stars        640461 non-null  object\n",
      " 4   useful       640461 non-null  object\n",
      " 5   funny        640461 non-null  object\n",
      " 6   cool         640461 non-null  object\n",
      " 7   text         640461 non-null  object\n",
      " 8   date         640461 non-null  object\n",
      " 9   feeling      640461 non-null  object\n",
      "dtypes: object(10)\n",
      "memory usage: 48.9+ MB\n"
     ]
    }
   ],
   "source": [
    "df_reviews.info()"
   ]
  },
  {
   "cell_type": "code",
   "execution_count": 8,
   "metadata": {},
   "outputs": [],
   "source": [
    "df_business['stars'] = df_business['stars'].astype(float)"
   ]
  },
  {
   "cell_type": "code",
   "execution_count": null,
   "metadata": {},
   "outputs": [],
   "source": [
    "def user_recommender(business_id, stars):#Ingresa el puntaje calificado por el usuario y el id de negocio\n",
    "    if stars < 0 or stars > 5:\n",
    "        return 'Calificacion invalida'\n",
    "    umbral_calificacion = 4\n",
    "    reviews_locales = df_reviews[df_reviews['business_id'] == business_id]\n",
    "    if reviews_locales.empty:\n",
    "        return 'Local invalido'\n",
    "    if stars > umbral_calificacion:\n",
    "        coincidencias = reviews_locales[reviews_locales['stars'] > umbral_calificacion]\n",
    "    elif stars < umbral_calificacion:\n",
    "        coincidencias = reviews_locales[reviews_locales['stars'] < umbral_calificacion]\n",
    "\n"
   ]
  }
 ],
 "metadata": {
  "kernelspec": {
   "display_name": "venv",
   "language": "python",
   "name": "python3"
  },
  "language_info": {
   "codemirror_mode": {
    "name": "ipython",
    "version": 3
   },
   "file_extension": ".py",
   "mimetype": "text/x-python",
   "name": "python",
   "nbconvert_exporter": "python",
   "pygments_lexer": "ipython3",
   "version": "3.11.1"
  }
 },
 "nbformat": 4,
 "nbformat_minor": 2
}
